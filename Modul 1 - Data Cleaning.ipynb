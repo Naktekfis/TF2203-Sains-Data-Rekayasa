{
 "cells": [
  {
   "cell_type": "markdown",
   "id": "6bdf2bee-a732-48b2-ad12-3a06fd61c2f2",
   "metadata": {},
   "source": [
    "## Praktikum-1 \n",
    "### TF-2203 Sains Data Rekayasa\n",
    "### Pembersihan Basis Data\n",
    "### **1. Impor Pustaka dan Baca data:**   \n",
    "- Impor pustaka yang diperlukan\n",
    "- Muat kumpulan data\n",
    "- View data menggunakan metode head()\n",
    "- Cek ukuran data menggunakan metode shape()"
   ]
  },
  {
   "cell_type": "code",
   "execution_count": 1,
   "id": "4457d9ba-6527-43a5-9cb8-4d738bd50f38",
   "metadata": {},
   "outputs": [
    {
     "data": {
      "text/plain": [
       "<bound method NDFrame.head of      PassengerId  Survived  Pclass  \\\n",
       "0              1         0       3   \n",
       "1              2         1       1   \n",
       "2              3         1       3   \n",
       "3              4         1       1   \n",
       "4              5         0       3   \n",
       "..           ...       ...     ...   \n",
       "886          887         0       2   \n",
       "887          888         1       1   \n",
       "888          889         0       3   \n",
       "889          890         1       1   \n",
       "890          891         0       3   \n",
       "\n",
       "                                                  Name     Sex   Age  SibSp  \\\n",
       "0                              Braund, Mr. Owen Harris    male  22.0      1   \n",
       "1    Cumings, Mrs. John Bradley (Florence Briggs Th...  female  38.0      1   \n",
       "2                               Heikkinen, Miss. Laina  female  26.0      0   \n",
       "3         Futrelle, Mrs. Jacques Heath (Lily May Peel)  female  35.0      1   \n",
       "4                             Allen, Mr. William Henry    male  35.0      0   \n",
       "..                                                 ...     ...   ...    ...   \n",
       "886                              Montvila, Rev. Juozas    male  27.0      0   \n",
       "887                       Graham, Miss. Margaret Edith  female  19.0      0   \n",
       "888           Johnston, Miss. Catherine Helen \"Carrie\"  female   NaN      1   \n",
       "889                              Behr, Mr. Karl Howell    male  26.0      0   \n",
       "890                                Dooley, Mr. Patrick    male  32.0      0   \n",
       "\n",
       "     Parch            Ticket     Fare Cabin Embarked  \n",
       "0        0         A/5 21171   7.2500   NaN        S  \n",
       "1        0          PC 17599  71.2833   C85        C  \n",
       "2        0  STON/O2. 3101282   7.9250   NaN        S  \n",
       "3        0            113803  53.1000  C123        S  \n",
       "4        0            373450   8.0500   NaN        S  \n",
       "..     ...               ...      ...   ...      ...  \n",
       "886      0            211536  13.0000   NaN        S  \n",
       "887      0            112053  30.0000   B42        S  \n",
       "888      2        W./C. 6607  23.4500   NaN        S  \n",
       "889      0            111369  30.0000  C148        C  \n",
       "890      0            370376   7.7500   NaN        Q  \n",
       "\n",
       "[891 rows x 12 columns]>"
      ]
     },
     "execution_count": 1,
     "metadata": {},
     "output_type": "execute_result"
    }
   ],
   "source": [
    "import pandas as pd\n",
    "import numpy as np\n",
    "import matplotlib.pyplot as plt\n",
    "\n",
    "# Muat data dari file titanic.csv\n",
    "df = pd.read_csv('titanic.csv')\n",
    "# view 5 data pertama\n",
    "df.head"
   ]
  },
  {
   "cell_type": "code",
   "execution_count": 2,
   "id": "f8f5cf50-c0eb-4e8c-973b-89780bdc8e5a",
   "metadata": {},
   "outputs": [
    {
     "name": "stdout",
     "output_type": "stream",
     "text": [
      "(891, 12)\n"
     ]
    }
   ],
   "source": [
    "# lihat ukuran data\n",
    "print(df.shape)"
   ]
  },
  {
   "cell_type": "markdown",
   "id": "b0186d6d-ac58-4749-a7f1-e980db74a443",
   "metadata": {},
   "source": [
    "---\n",
    "### **2. Inspeksi dan Eksplorasi Data**   \n",
    "Periksa kumpulan data secara menyeluruh untuk memahami strukturnya, mengidentifikasi pola, potensi masalah, dan memperoleh wawasan sebelum membangun model prediktif.\n",
    "- Periksa struktur dan identifikasi nilai yang hilang, outlier, dan inkonsistensi.\n",
    "- Periksa baris duplikat.\n",
    "- Periksa informasi data. \n",
    "- Periksa tipe data pada setiap kolom, kategoris dan Numerik.\n",
    "- Periksa jumlah total Nilai Unik di Kolom Kategoris."
   ]
  },
  {
   "cell_type": "code",
   "execution_count": 3,
   "id": "7b65b408-7e2b-4957-a997-dc6f50fc2c8c",
   "metadata": {},
   "outputs": [
    {
     "name": "stdout",
     "output_type": "stream",
     "text": [
      "Baris-Baris Duplikat\n",
      "Empty DataFrame\n",
      "Columns: [PassengerId, Survived, Pclass, Name, Sex, Age, SibSp, Parch, Ticket, Fare, Cabin, Embarked]\n",
      "Index: []\n"
     ]
    }
   ],
   "source": [
    "print('Baris-Baris Duplikat')\n",
    "print(df[df.duplicated()])"
   ]
  },
  {
   "cell_type": "markdown",
   "id": "4e940b9e-a35d-40ed-85f2-ad8907e480cd",
   "metadata": {},
   "source": [
    "---\n",
    "\n",
    "**Periksa informasi data** \n",
    "- gunakan metod info()\n",
    "- perhatikan jumlah data untuk setiap kolom, "
   ]
  },
  {
   "cell_type": "code",
   "execution_count": 4,
   "id": "cd714472-494c-40c3-978a-e05a33a1fd03",
   "metadata": {},
   "outputs": [
    {
     "name": "stdout",
     "output_type": "stream",
     "text": [
      "<class 'pandas.core.frame.DataFrame'>\n",
      "RangeIndex: 891 entries, 0 to 890\n",
      "Data columns (total 12 columns):\n",
      " #   Column       Non-Null Count  Dtype  \n",
      "---  ------       --------------  -----  \n",
      " 0   PassengerId  891 non-null    int64  \n",
      " 1   Survived     891 non-null    int64  \n",
      " 2   Pclass       891 non-null    int64  \n",
      " 3   Name         891 non-null    object \n",
      " 4   Sex          891 non-null    object \n",
      " 5   Age          714 non-null    float64\n",
      " 6   SibSp        891 non-null    int64  \n",
      " 7   Parch        891 non-null    int64  \n",
      " 8   Ticket       891 non-null    object \n",
      " 9   Fare         891 non-null    float64\n",
      " 10  Cabin        204 non-null    object \n",
      " 11  Embarked     889 non-null    object \n",
      "dtypes: float64(2), int64(5), object(5)\n",
      "memory usage: 83.7+ KB\n"
     ]
    }
   ],
   "source": [
    "df.info()"
   ]
  },
  {
   "cell_type": "markdown",
   "id": "b6d298db-b28f-4473-b825-18a416c71fe1",
   "metadata": {},
   "source": [
    "---\n",
    "**Cek Tipe Data Setiap Kolom**\n",
    "- Kategoris : tipe data objek\n",
    "- Numerik : tipe data selain objek"
   ]
  },
  {
   "cell_type": "code",
   "execution_count": 5,
   "id": "2bf217ba-958b-48c4-ac6b-94bd1cb715d7",
   "metadata": {},
   "outputs": [
    {
     "name": "stdout",
     "output_type": "stream",
     "text": [
      "Kolom Kategori : ['Name', 'Sex', 'Ticket', 'Cabin', 'Embarked']\n",
      "Kolom Numerik : ['PassengerId', 'Survived', 'Pclass', 'Age', 'SibSp', 'Parch', 'Fare']\n"
     ]
    }
   ],
   "source": [
    "# Kolom Kategori\n",
    "kol_kategori = ['Name', 'Sex', 'Ticket', 'Cabin', 'Embarked']\n",
    "print('Kolom Kategori :',kol_kategori)\n",
    "\n",
    "# Kolom Numerik\n",
    "kol_numerik = ['PassengerId', 'Survived', 'Pclass', 'Age', 'SibSp', 'Parch', 'Fare']\n",
    "print('Kolom Numerik :',kol_numerik)"
   ]
  },
  {
   "cell_type": "markdown",
   "id": "bbb3cf50-4de2-46fd-94cd-b313f5fb8c75",
   "metadata": {},
   "source": [
    "---\n",
    "**Periksa jumlah total Nilai Unik yang ada di Kolom Kategoris**\n",
    "- Gunakan metod nunique() pada kolom tersebut"
   ]
  },
  {
   "cell_type": "code",
   "execution_count": 6,
   "id": "5eead2c7-5c7a-432e-b448-b9f9f1922b5c",
   "metadata": {},
   "outputs": [
    {
     "data": {
      "text/plain": [
       "Name        891\n",
       "Sex           2\n",
       "Ticket      681\n",
       "Cabin       147\n",
       "Embarked      3\n",
       "dtype: int64"
      ]
     },
     "execution_count": 6,
     "metadata": {},
     "output_type": "execute_result"
    }
   ],
   "source": [
    "df[kol_kategori].nunique()"
   ]
  },
  {
   "cell_type": "code",
   "execution_count": 7,
   "id": "b159f7e1-7f8b-4a97-9c9f-13f75cad0028",
   "metadata": {},
   "outputs": [
    {
     "data": {
      "text/plain": [
       "PassengerId    891\n",
       "Survived         2\n",
       "Pclass           3\n",
       "Age             88\n",
       "SibSp            7\n",
       "Parch            7\n",
       "Fare           248\n",
       "dtype: int64"
      ]
     },
     "execution_count": 7,
     "metadata": {},
     "output_type": "execute_result"
    }
   ],
   "source": [
    "df[kol_numerik].nunique()"
   ]
  },
  {
   "cell_type": "markdown",
   "id": "744d94c4-542e-45d0-92bd-d28d03f2d679",
   "metadata": {},
   "source": [
    "### **3. Penghapusan Semua Data yang Tidak Diinginkan**\n",
    "Untuk membersihkan data, hilangkan data yang duplikat dan tidak relevan. Duplikat, sering kali berasal dari kesalahan pengumpulan, membuang-buang sumber daya dan mendistorsi hasil. Data yang tidak relevan, tidak berguna untuk analisis, harus dihapus.\n",
    "\n",
    "Tentukan faktor-faktor penting untuk analisis. Data teks harus diubah atau dihilangkan; pengidentifikasi unik seperti nama sering dihapus karena tidak memengaruhi variabel target. Untuk fitur kategoris seperti tiket, periksa nilai unik untuk menilai relevansinya.\n",
    "Data duplikat paling sering muncul selama pengumpulan data dan data yang tidak relevan adalah data yang sebenarnya tidak sesuai dengan masalah spesifik yang ingin kita pecahkan. \n",
    "\n",
    "**Penghapusan data meliputi:**\n",
    "- Penghapusan kolom yang tidak relevan\n",
    "- Penghpusan data kosong\n",
    "- Imputasi data kosong\n",
    "- Penghapusan data outlier\n",
    "  \n",
    "Periksa keunikan data tickets.   \n",
    "**Cetak nama tiket yang unik sebanyak 50 buah**\n",
    "- gunakan metod unique() dengan batasan sebanyak 50 data"
   ]
  },
  {
   "cell_type": "code",
   "execution_count": 8,
   "id": "b62c7fde-8021-41d1-af43-973ec9a14f5b",
   "metadata": {},
   "outputs": [
    {
     "name": "stdout",
     "output_type": "stream",
     "text": [
      "['A/5 21171' 'PC 17599' 'STON/O2. 3101282' '113803' '373450' '330877'\n",
      " '17463' '349909' '347742' '237736' 'PP 9549' '113783' 'A/5. 2151'\n",
      " '347082' '350406' '248706' '382652' '244373' '345763' '2649' '239865'\n",
      " '248698' '330923' '113788' '347077' '2631' '19950' '330959' '349216'\n",
      " 'PC 17601' 'PC 17569' '335677' 'C.A. 24579' 'PC 17604' '113789' '2677'\n",
      " 'A./5. 2152' '345764' '2651' '7546' '11668' '349253' 'SC/Paris 2123'\n",
      " '330958' 'S.C./A.4. 23567' '370371' '14311' '2662' '349237' '3101295']\n"
     ]
    }
   ],
   "source": [
    "# Data 50 tiket unik\n",
    "print(df['Ticket'].unique()[:50])"
   ]
  },
  {
   "cell_type": "markdown",
   "id": "62e71490-faca-4a78-94fa-d830abf65392",
   "metadata": {},
   "source": [
    "Nama dan Tiket bisa dianggap unik, kita hilangkan kolom “Nama” dan “Tiket”.   \n",
    "- gunakan metod drop disertai nama kolom untuk menhapus kolom\n",
    "- simpan data yang sdh dihapus ke data frame baru"
   ]
  },
  {
   "cell_type": "code",
   "execution_count": 9,
   "id": "1ade5881-0c85-432e-b48b-8360e39d1259",
   "metadata": {},
   "outputs": [
    {
     "data": {
      "text/plain": [
       "(891, 10)"
      ]
     },
     "execution_count": 9,
     "metadata": {},
     "output_type": "execute_result"
    }
   ],
   "source": [
    "df1 = df.drop(['Name', 'Ticket'], axis=1)\n",
    "df1.shape"
   ]
  },
  {
   "cell_type": "markdown",
   "id": "5d9a3079-83b3-4d26-b4ef-b64fd867f997",
   "metadata": {},
   "source": [
    "### Penanganan Data yang Hilang\n",
    "Data yang hilang, yang disebabkan oleh kesalahan atau kegagalan, merupakan hal yang umum. Penanganannya melibatkan imputasi, penghapusan, atau substitusi.\n",
    "\n",
    "Hitung presentase data kosong/hilang tiap kolom:\n",
    "- gunakan metode isnull() dan sum() untuk menghitung jumlah data yang hilang.\n",
    "- Bagi jumlah null dengan total baris dan kalikan dengan 100."
   ]
  },
  {
   "cell_type": "code",
   "execution_count": 10,
   "id": "ef60c03e-d5d9-4e1d-8563-77aa67073ff0",
   "metadata": {},
   "outputs": [
    {
     "data": {
      "text/plain": [
       "PassengerId     0.000\n",
       "Survived        0.000\n",
       "Pclass          0.000\n",
       "Name            0.000\n",
       "Sex             0.000\n",
       "Age            19.865\n",
       "SibSp           0.000\n",
       "Parch           0.000\n",
       "Ticket          0.000\n",
       "Fare            0.000\n",
       "Cabin          77.104\n",
       "Embarked        0.224\n",
       "dtype: float64"
      ]
     },
     "execution_count": 10,
     "metadata": {},
     "output_type": "execute_result"
    }
   ],
   "source": [
    "round((df.isnull().sum() / len(df))*100,3)"
   ]
  },
  {
   "cell_type": "markdown",
   "id": "14864bf4-22ef-4c9b-87e7-369d66fbb795",
   "metadata": {},
   "source": [
    "**Menghapus/Mengganti data hilang**\n",
    "Data yang hilang memerlukan penanganan yang cermat. Data tersebut dapat mengungkap pola yang signifikan dan sering ditemukan dalam prediksi dunia nyata.\n",
    "\n",
    "Persentase nilai yang hilang yang tinggi, seperti 77% di kolom \"Cabin\", memerlukan penghapusan. Persentase yang rendah, seperti 0,22% di \"Embarked,\" memungkinkan penghapusan baris. Persentase sedang, seperti 19,87% di \"Age,\" mungkin memerlukan strategi imputasi lainnya.\n",
    "\n",
    "- Hapus kolom Cabin\n",
    "- Hapus baris yang ada data kosong di kolom Embarked\n",
    "- simpan di dataframe baru\n",
    "- cek ukuran dataframe sekarang"
   ]
  },
  {
   "cell_type": "code",
   "execution_count": 11,
   "id": "adcfb358-7979-4a08-a3a3-ea1f5ecbb868",
   "metadata": {},
   "outputs": [
    {
     "data": {
      "text/plain": [
       "(889, 11)"
      ]
     },
     "execution_count": 11,
     "metadata": {},
     "output_type": "execute_result"
    }
   ],
   "source": [
    "# Hapus kolom Cabin, simpan ke dataframe baru\n",
    "df2 = df.drop('Cabin', axis=1)\n",
    "# Hapus baris yang ada nilai kosong pada kolom Embarked\n",
    "df2 = df2.dropna(subset=['Embarked'])\n",
    "# Cek ukuran dataframe\n",
    "df2.shape"
   ]
  },
  {
   "cell_type": "markdown",
   "id": "0b846787-662a-4801-b10c-5f112fa9a388",
   "metadata": {},
   "source": [
    "**IMPUTASI**\n",
    "Nilai yang hilang dapat bersifat informatif. Imputasi, meskipun mengisi celah, tidak menambah data baru; ia memperkuat pola yang ada.\n",
    "Untuk imputasi, gunakan:\n",
    "- Imputasi rata-rata: Untuk data yang terdistribusi normal tanpa outlier.\n",
    "- Imputasi median: Untuk data dengan outlier atau kemiringan.\n",
    "\n",
    "- Gunakan imputasi median untuk kolom Age\n",
    "- Simpan di dataframe baru\n",
    "- Cek jumlah data kosong"
   ]
  },
  {
   "cell_type": "code",
   "execution_count": 12,
   "id": "798c33e9-884c-48e0-aa35-e8f28cb2baa9",
   "metadata": {},
   "outputs": [
    {
     "data": {
      "text/plain": [
       "np.int64(0)"
      ]
     },
     "execution_count": 12,
     "metadata": {},
     "output_type": "execute_result"
    }
   ],
   "source": [
    "# Imputasi rata-rata (Mean) pada kolom Age\n",
    "df3 = df2.fillna({'Age': df2['Age'].mean()})\n",
    "\n",
    "# Cek jumlah nilai kosong\n",
    "df3['Age'].isnull().sum()"
   ]
  },
  {
   "cell_type": "markdown",
   "id": "0754ad31-6b66-4b08-aa2a-5c754ba60875",
   "metadata": {},
   "source": [
    "**Penanganan Outlier**\n",
    "\n",
    "Outlier, titik data ekstrem, mendistorsi analisis. Penanganannya melibatkan pengelompokan, interpolasi, atau transformasi.\n",
    "\n",
    "Diagram kotak memvisualisasikan distribusi data, yang menunjukkan median, kuartil, dan outlier. Kotak tersebut mewakili rentang interkuartil (IQR), dan garis memanjang hingga 1,5 kali IQR. Titik di luar garis ini berpotensi menjadi outlier. Diagram kotak dengan cepat mengungkapkan rentang data, outlier, dan kemiringan.\n",
    "\n",
    "Mari kita buat diagram kotak (boxplot dari matplotlib) untuk data kolom Age."
   ]
  },
  {
   "cell_type": "code",
   "execution_count": 13,
   "id": "f71eb19a-a0ac-468b-91d9-f3443153371e",
   "metadata": {},
   "outputs": [
    {
     "data": {
      "image/png": "[encoded data removed]",
      "text/plain": [
       "<Figure size 640x480 with 1 Axes>"
      ]
     },
     "metadata": {},
     "output_type": "display_data"
    }
   ],
   "source": [
    "# Buat boxplot untuk kolom Age\n",
    "import matplotlib.pyplot as plt\n",
    "\n",
    "plt.boxplot(df3['Age'])\n",
    "plt.ylabel('Variable')\n",
    "plt.xlabel('Age')\n",
    "plt.title('Box Plot')\n",
    "plt.show()"
   ]
  },
  {
   "cell_type": "markdown",
   "id": "96eaa38b-d8dd-440e-a75a-bf60973525a3",
   "metadata": {},
   "source": [
    "Dari diagram Box di atas, terlihat kumpulan data di kolom Age memiliki nilai outlier.  \n",
    "Nilai kurang dari 5 dan lebih dari 55 adalah outlier.\n",
    "\n",
    "- Hapus data outlier Age menggunakan metode IQR\n",
    "- Simpan hasilnya di data framebaru"
   ]
  },
  {
   "cell_type": "code",
   "execution_count": 14,
   "id": "13a3b7c0-6d4f-4660-b6e7-59e372664a0a",
   "metadata": {},
   "outputs": [
    {
     "name": "stdout",
     "output_type": "stream",
     "text": [
      "Lower Bound : 2.5\n",
      "Upper Bound : 54.5\n"
     ]
    }
   ],
   "source": [
    "# Metode IQR (Interquartile Range): \n",
    "# Menentukan outlier sebagai nilai di luar rentang tertentu dari IQR.\n",
    "Q1 = df3['Age'].quantile(0.25)\n",
    "Q3 = df3['Age'].quantile(0.75)\n",
    "IQR = Q3 - Q1\n",
    "lower_bound = Q1 - 1.5*IQR\n",
    "upper_bound = Q3 + 1.5*IQR\n",
    "print('Lower Bound :',lower_bound)\n",
    "print('Upper Bound :',upper_bound)\n",
    "\n",
    "# Drop the outliers\n",
    "df4 = df3[(df3['Age'] >= lower_bound) & (df3['Age'] <= upper_bound)]"
   ]
  },
  {
   "cell_type": "markdown",
   "id": "563cb89d-8ae0-4986-b104-5db779e8b0d8",
   "metadata": {},
   "source": [
    "### Data Outlier\n",
    "- hapus data outlier untuk kolom numerik lainnya\n",
    "- Gunakan metode yang sesuai untuk masing-masing kolom\n",
    "  - IQR\n",
    "  - Z score\n",
    "  - Winsorizing atau Capping"
   ]
  },
  {
   "cell_type": "markdown",
   "id": "9bc1269c-b395-4041-920e-908ca63f13de",
   "metadata": {},
   "source": [
    "### Latihan mulai dari sini!"
   ]
  },
  {
   "cell_type": "markdown",
   "id": "f3e2dc0b-9dfd-4173-b676-f1c45e6cf04f",
   "metadata": {},
   "source": [
    "**Cek info data!**"
   ]
  },
  {
   "cell_type": "code",
   "execution_count": 15,
   "id": "309c4406-f4cd-4cf0-b4bf-ca800faa0f0a",
   "metadata": {},
   "outputs": [
    {
     "name": "stdout",
     "output_type": "stream",
     "text": [
      "<class 'pandas.core.frame.DataFrame'>\n",
      "Index: 824 entries, 0 to 890\n",
      "Data columns (total 11 columns):\n",
      " #   Column       Non-Null Count  Dtype  \n",
      "---  ------       --------------  -----  \n",
      " 0   PassengerId  824 non-null    int64  \n",
      " 1   Survived     824 non-null    int64  \n",
      " 2   Pclass       824 non-null    int64  \n",
      " 3   Name         824 non-null    object \n",
      " 4   Sex          824 non-null    object \n",
      " 5   Age          824 non-null    float64\n",
      " 6   SibSp        824 non-null    int64  \n",
      " 7   Parch        824 non-null    int64  \n",
      " 8   Ticket       824 non-null    object \n",
      " 9   Fare         824 non-null    float64\n",
      " 10  Embarked     824 non-null    object \n",
      "dtypes: float64(2), int64(5), object(4)\n",
      "memory usage: 77.2+ KB\n"
     ]
    }
   ],
   "source": [
    "df4.info()"
   ]
  },
  {
   "cell_type": "markdown",
   "id": "86dce9de-d8c5-40a5-ba49-63428dad42f2",
   "metadata": {},
   "source": [
    "**Cek kolom \"Survived\" dan \"Pclass\"**"
   ]
  },
  {
   "cell_type": "code",
   "execution_count": 20,
   "id": "6cc316ae-b86a-41fb-89f6-f5fb2cf7ab27",
   "metadata": {},
   "outputs": [
    {
     "data": {
      "image/png": "[encoded data removed]",
      "text/plain": [
       "<Figure size 640x480 with 1 Axes>"
      ]
     },
     "metadata": {},
     "output_type": "display_data"
    },
    {
     "data": {
      "image/png": "[encoded data removed]",
      "text/plain": [
       "<Figure size 640x480 with 1 Axes>"
      ]
     },
     "metadata": {},
     "output_type": "display_data"
    }
   ],
   "source": [
    "plt.hist(df4['Survived'], bins=[-0.5, 0.5, 1.5])\n",
    "plt.ylabel('Frequency')\n",
    "plt.title('Orang yang Bertahan Hidup')\n",
    "plt.xticks([0, 1])\n",
    "plt.show()\n",
    "\n",
    "plt.hist(df4['Pclass'], bins=[0.5, 1.5, 2.5, 3.5])\n",
    "plt.ylabel('Frequency')\n",
    "plt.title('Passenger Class')\n",
    "plt.xticks([1, 2, 3]) \n",
    "plt.show()"
   ]
  },
  {
   "cell_type": "markdown",
   "id": "567f32fc-bbe8-4020-80e1-9b61edccf384",
   "metadata": {},
   "source": [
    "Dari data kolom \"Survival\" dan \"Pclass\", terlihat bahwa ini data yang tidak perlu dikoreksi, karena tidak ada konsep outlier dalam kolom ini"
   ]
  },
  {
   "cell_type": "markdown",
   "id": "e5ed034e-a19f-4199-8f95-58bf2df6b8e4",
   "metadata": {},
   "source": [
    "**Cek kolom \"SibSp\", \"Parch\" dan \"Fare\"**"
   ]
  },
  {
   "cell_type": "code",
   "execution_count": 22,
   "id": "31b37481-a671-4e85-b030-660818a61234",
   "metadata": {},
   "outputs": [
    {
     "data": {
      "image/png": "[encoded data removed]",
      "text/plain": [
       "<Figure size 640x480 with 1 Axes>"
      ]
     },
     "metadata": {},
     "output_type": "display_data"
    },
    {
     "data": {
      "image/png": "[encoded data removed]",
      "text/plain": [
       "<Figure size 640x480 with 1 Axes>"
      ]
     },
     "metadata": {},
     "output_type": "display_data"
    },
    {
     "data": {
      "image/png": "[encoded data removed]",
      "text/plain": [
       "<Figure size 640x480 with 1 Axes>"
      ]
     },
     "metadata": {},
     "output_type": "display_data"
    }
   ],
   "source": [
    "plt.boxplot(df4['SibSp'])\n",
    "plt.ylabel('Frequency')\n",
    "plt.title('Sibling/Spouses')\n",
    "plt.show()\n",
    "\n",
    "plt.boxplot(df4['Parch'])\n",
    "plt.ylabel('Frequency')\n",
    "plt.title('Parent/Children')\n",
    "plt.show()\n",
    "\n",
    "plt.boxplot(df4['Fare'])\n",
    "plt.ylabel('Fare')\n",
    "plt.title('Fare')\n",
    "plt.show()"
   ]
  },
  {
   "cell_type": "markdown",
   "id": "553634b6-64b1-4ac0-a1eb-aa0df86f65ab",
   "metadata": {},
   "source": [
    "Terlihat bahwa, ketiga kolom memiliki karakteristik *skewed*"
   ]
  },
  {
   "cell_type": "markdown",
   "id": "767c06c3-fa6b-449c-a30d-3327c5ccf7ec",
   "metadata": {},
   "source": [
    "**Gunakan IQR untuk ketiganya**\n",
    "\n",
    "IQR: \"SibSp\""
   ]
  },
  {
   "cell_type": "code",
   "execution_count": 23,
   "id": "9e7f291d-3175-4b5f-9853-6ab59b138436",
   "metadata": {},
   "outputs": [
    {
     "name": "stdout",
     "output_type": "stream",
     "text": [
      "Lower Bound : -1.5\n",
      "Upper Bound : 2.5\n"
     ]
    }
   ],
   "source": [
    "# Metode IQR (Interquartile Range): \n",
    "# Menentukan outlier sebagai nilai di luar rentang tertentu dari IQR.\n",
    "Q1a = df4['SibSp'].quantile(0.25)\n",
    "Q3a = df4['SibSp'].quantile(0.75)\n",
    "IQRa = Q3a - Q1a\n",
    "lower_bounda = Q1a - 1.5*IQRa\n",
    "upper_bounda = Q3a + 1.5*IQRa\n",
    "print('Lower Bound :',lower_bounda)\n",
    "print('Upper Bound :',upper_bounda)\n",
    "\n",
    "# Drop the outliers\n",
    "df5 = df4[(df4['SibSp'] >= lower_bounda) & (df4['SibSp'] <= upper_bounda)]"
   ]
  },
  {
   "cell_type": "markdown",
   "id": "e66ef3d4-dc5d-4b73-b6a6-4caf09c4c418",
   "metadata": {},
   "source": [
    "IQR: \"Parch\""
   ]
  },
  {
   "cell_type": "code",
   "execution_count": 24,
   "id": "95535d5b-f006-4653-bb1f-eaa8370ec82b",
   "metadata": {},
   "outputs": [
    {
     "name": "stdout",
     "output_type": "stream",
     "text": [
      "Lower Bound : 0.0\n",
      "Upper Bound : 0.0\n"
     ]
    }
   ],
   "source": [
    "# Metode IQR (Interquartile Range): \n",
    "# Menentukan outlier sebagai nilai di luar rentang tertentu dari IQR.\n",
    "Q1b = df4['Parch'].quantile(0.25)\n",
    "Q3b = df4['Parch'].quantile(0.75)\n",
    "IQRb = Q3b - Q1b\n",
    "lower_boundb = Q1b - 1.5*IQRb\n",
    "upper_boundb = Q3b + 1.5*IQRb\n",
    "print('Lower Bound :',lower_boundb)\n",
    "print('Upper Bound :',upper_boundb)\n",
    "\n",
    "# Drop the outliers\n",
    "df5 = df4[(df4['Parch'] >= lower_boundb) & (df4['Parch'] <= upper_boundb)]"
   ]
  },
  {
   "cell_type": "markdown",
   "id": "73e3c817-3b1a-4031-8a15-97ffbcd1f42d",
   "metadata": {},
   "source": [
    "IQR: \"Fare\""
   ]
  },
  {
   "cell_type": "code",
   "execution_count": 25,
   "id": "a4bd7712-ee4c-4ef6-8d00-2f9841f89f07",
   "metadata": {},
   "outputs": [
    {
     "name": "stdout",
     "output_type": "stream",
     "text": [
      "Lower Bound : -25.287049999999994\n",
      "Upper Bound : 63.20054999999999\n"
     ]
    }
   ],
   "source": [
    "# Metode IQR (Interquartile Range): \n",
    "# Menentukan outlier sebagai nilai di luar rentang tertentu dari IQR.\n",
    "Q1c = df4['Fare'].quantile(0.25)\n",
    "Q3c = df4['Fare'].quantile(0.75)\n",
    "IQRc = Q3c - Q1c\n",
    "lower_boundc = Q1c - 1.5*IQRc\n",
    "upper_boundc = Q3c + 1.5*IQRc\n",
    "print('Lower Bound :',lower_boundc)\n",
    "print('Upper Bound :',upper_boundc)\n",
    "\n",
    "# Drop the outliers\n",
    "df5 = df4[(df4['Fare'] >= lower_boundc) & (df4['Fare'] <= upper_boundc)]"
   ]
  },
  {
   "cell_type": "markdown",
   "id": "9fba0c94-f116-4b1d-912e-73c6186da0de",
   "metadata": {},
   "source": [
    "**Cek Info utk \"df5\"**"
   ]
  },
  {
   "cell_type": "code",
   "execution_count": 26,
   "id": "0119d31f-3ee9-47a5-91af-b1e40aafdfed",
   "metadata": {},
   "outputs": [
    {
     "name": "stdout",
     "output_type": "stream",
     "text": [
      "<class 'pandas.core.frame.DataFrame'>\n",
      "Index: 718 entries, 0 to 890\n",
      "Data columns (total 11 columns):\n",
      " #   Column       Non-Null Count  Dtype  \n",
      "---  ------       --------------  -----  \n",
      " 0   PassengerId  718 non-null    int64  \n",
      " 1   Survived     718 non-null    int64  \n",
      " 2   Pclass       718 non-null    int64  \n",
      " 3   Name         718 non-null    object \n",
      " 4   Sex          718 non-null    object \n",
      " 5   Age          718 non-null    float64\n",
      " 6   SibSp        718 non-null    int64  \n",
      " 7   Parch        718 non-null    int64  \n",
      " 8   Ticket       718 non-null    object \n",
      " 9   Fare         718 non-null    float64\n",
      " 10  Embarked     718 non-null    object \n",
      "dtypes: float64(2), int64(5), object(4)\n",
      "memory usage: 67.3+ KB\n"
     ]
    }
   ],
   "source": [
    "df5.info()"
   ]
  }
 ],
 "metadata": {
  "kernelspec": {
   "display_name": "Python 3 (ipykernel)",
   "language": "python",
   "name": "python3"
  },
  "language_info": {
   "codemirror_mode": {
    "name": "ipython",
    "version": 3
   },
   "file_extension": ".py",
   "mimetype": "text/x-python",
   "name": "python",
   "nbconvert_exporter": "python",
   "pygments_lexer": "ipython3",
   "version": "3.11.6"
  }
 },
 "nbformat": 4,
 "nbformat_minor": 5
}
